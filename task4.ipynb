{
 "cells": [
  {
   "cell_type": "markdown",
   "id": "3ce32090d8ba6ff4",
   "metadata": {
    "collapsed": false,
    "jupyter": {
     "outputs_hidden": false
    }
   },
   "source": [
    "# Грузія"
   ]
  },
  {
   "cell_type": "markdown",
   "id": "1664d2bb5553c8af",
   "metadata": {
    "collapsed": false,
    "jupyter": {
     "outputs_hidden": false
    }
   },
   "source": [
    "\n",
    "## Інформація\n",
    "\n",
    "| Площина      | Населення       | Державний устрой                                |\n",
    "|--------------|-----------------|-------------------------------------------------|\n",
    "| *69,700 кв. км* | *близько 3.7 мільйони осіб*    | Республіка |\n"
   ]
  },
  {
   "cell_type": "markdown",
   "id": "e89adf9219ab515f",
   "metadata": {
    "collapsed": false,
    "jupyter": {
     "outputs_hidden": false
    }
   },
   "source": [
    "## Видатні персони\n",
    "- ### <a style = \"color: red; border: 1px solid black\" href=\"https://uk.wikipedia.org/wiki/%D0%A8%D0%BE%D1%82%D0%B0_%D0%A0%D1%83%D1%81%D1%82%D0%B0%D0%B2%D0%B5%D0%BB%D1%96\">Шота Руставелі - видатний грузинський поет</a>\n",
    " <img style=\"height: 300px; width: 300px\"\n",
    "             src=\"https://www.ukrlib.com.ua/my/images/full/rustaveli-shota.jpg\">\n",
    "- ###  <a style = \"color: red; border: 1px solid black\" href=\"https://uk.wikipedia.org/wiki/%D0%94%D0%B0%D0%B2%D0%B8%D0%B4_IV\">Давид Агмашенебелі - історик і філософ</a>\n",
    "<img style=\"height: 300px; width: 300px\"\n",
    "        src=\"https://upload.wikimedia.org/wikipedia/commons/9/9a/Davit_Agmashenebeli.jpg\">\n",
    "- ### <a style = \"color: red; border: 1px solid black\" href=\"https://uk.wikipedia.org/wiki/%D0%94%D0%B6%D0%BE%D1%80%D0%B4%D0%B6%D1%96%D1%8F_%D0%9E%27%D0%9A%D1%96%D1%84\">Джорджія О’Кіф - видатна американська художниця грузинського походження</a>\n",
    "<img style=\"height: 300px; width: 300px\"\n",
    "             src=\"https://upload.wikimedia.org/wikipedia/commons/9/97/Alfred_Stieglitz_-_Georgia_O%27Keeffe%2C_A_Portrait.jpg\">"
   ]
  },
  {
   "cell_type": "markdown",
   "id": "af337835304501ab",
   "metadata": {
    "collapsed": false,
    "jupyter": {
     "outputs_hidden": false
    }
   },
   "source": [
    "## Пам'ятки культури\n",
    "- ### <a style = \"color: red; border: 1px solid black\" href=\"https://uk.wikipedia.org/wiki/%D0%9A%D0%B0%D0%B2%D0%BA%D0%B0%D0%B7\">Кавказькі гори, які пропонують відмінні можливості для туризму та гірського спорту</a>\n",
    " <img style=\"height: 250px; width: 300px\"  src=\"photo/Kavkazki-gory.jpg\">\n",
    "\n",
    "- ###  <a style = \"color: red; border: 1px solid black\" href=\"https://ru.wikipedia.org/wiki/%D0%A1%D0%B2%D0%B5%D1%82%D0%B8%D1%86%D1%85%D0%BE%D0%B2%D0%B5%D0%BB%D0%B8\">Монастир Светіцховели</a>\n",
    "<img style=\"height: 250px; width: 300px\"\n",
    "        src=\"photo/Svetitskhoveli_Cathedral_in_Georgia,_Europe.jpg\">\n",
    "- ### <a style = \"color: red; border: 1px solid black\" href=\"https://https://uk.wikipedia.org/wiki/%D0%93%D0%B5%D0%BB%D0%B0%D1%82%D1%81%D1%8C%D0%BA%D0%B8%D0%B9_%D0%BC%D0%BE%D0%BD%D0%B0%D1%81%D1%82%D0%B8%D1%80\">Гелатський монастир</a>\n",
    "<img style=\"height: 250px; width: 300px\"\n",
    "             src=\"photo/unnamed(4).jpg\">\n",
    "             "
   ]
  },
  {
   "cell_type": "markdown",
   "id": "9efafa8859710394",
   "metadata": {
    "collapsed": false,
    "jupyter": {
     "outputs_hidden": false
    }
   },
   "source": [
    "## Флаг\n"
   ]
  },
  {
   "cell_type": "code",
   "execution_count": 1,
   "id": "2687c8145f3be173",
   "metadata": {
    "ExecuteTime": {
     "end_time": "2023-11-09T10:23:57.537145Z",
     "start_time": "2023-11-09T10:23:57.530138600Z"
    },
    "collapsed": false,
    "jupyter": {
     "outputs_hidden": false
    }
   },
   "outputs": [
    {
     "data": {
      "text/html": [
       "<svg xmlns=\"http://www.w3.org/2000/svg\" xmlns:xlink=\"http://www.w3.org/1999/xlink\" width=\"600\" height=\"400\"\n",
       "         viewBox=\"0 0 30 20\" fill=\"#f00\">\n",
       "        <path fill=\"#fff\" d=\"m0 0h30v20H0z\"/>\n",
       "        <path d=\"m13 0h4v20h-4zM0 8h30v4H0z\"/>\n",
       "        <g id=\"c\">\n",
       "            <g id=\"b\">\n",
       "                <path id=\"a\"\n",
       "                      d=\"m5.7968 1.954a5.4 5.4 0 0 0 1.4064 0 10.4 10.4 0 0 0 0 4.092 5.4 5.4 0 0 0-1.4064 0 10.4 10.4 0 0 0 0-4.092z\"/>\n",
       "                <use transform=\"rotate(90,6.5,4)\" xlink:href=\"#a\"/>\n",
       "            </g>\n",
       "            <use x=\"17\" xlink:href=\"#b\"/>\n",
       "        </g>\n",
       "        <use y=\"12\" xlink:href=\"#c\"/>\n",
       "    </svg>\n"
      ],
      "text/plain": [
       "<IPython.core.display.HTML object>"
      ]
     },
     "metadata": {},
     "output_type": "display_data"
    }
   ],
   "source": [
    "%%HTML\n",
    "<svg xmlns=\"http://www.w3.org/2000/svg\" xmlns:xlink=\"http://www.w3.org/1999/xlink\" width=\"600\" height=\"400\"\n",
    "         viewBox=\"0 0 30 20\" fill=\"#f00\">\n",
    "        <path fill=\"#fff\" d=\"m0 0h30v20H0z\"/>\n",
    "        <path d=\"m13 0h4v20h-4zM0 8h30v4H0z\"/>\n",
    "        <g id=\"c\">\n",
    "            <g id=\"b\">\n",
    "                <path id=\"a\"\n",
    "                      d=\"m5.7968 1.954a5.4 5.4 0 0 0 1.4064 0 10.4 10.4 0 0 0 0 4.092 5.4 5.4 0 0 0-1.4064 0 10.4 10.4 0 0 0 0-4.092z\"/>\n",
    "                <use transform=\"rotate(90,6.5,4)\" xlink:href=\"#a\"/>\n",
    "            </g>\n",
    "            <use x=\"17\" xlink:href=\"#b\"/>\n",
    "        </g>\n",
    "        <use y=\"12\" xlink:href=\"#c\"/>\n",
    "    </svg>"
   ]
  },
  {
   "cell_type": "code",
   "execution_count": 2,
   "id": "f8a09710-3f1d-4673-a43e-02438daf8133",
   "metadata": {
    "ExecuteTime": {
     "end_time": "2023-11-09T10:27:58.486123200Z",
     "start_time": "2023-11-09T10:27:52.336352800Z"
    },
    "collapsed": false,
    "jupyter": {
     "outputs_hidden": false
    }
   },
   "outputs": [
    {
     "name": "stdin",
     "output_type": "stream",
     "text": [
      "Введите элементы массива, разделенные пробелами:  9 1 2 152 122 11 5\n"
     ]
    },
    {
     "name": "stdout",
     "output_type": "stream",
     "text": [
      "Список (от наибольшего к наименьшему): [1, 2, 5, 9, 11, 122, 152]\n"
     ]
    }
   ],
   "source": [
    "def gnome_sort_reverse(input_string):\n",
    "    input_list = []\n",
    "\n",
    "    for item in input_string.split():\n",
    "        try:\n",
    "            input_list.append(int(item))\n",
    "        except ValueError:\n",
    "            print(f\"Ошибка: '{item}' не является целым числом.\")\n",
    "\n",
    "    index = 0\n",
    "    n = len(input_list)\n",
    "\n",
    "    while index < n:\n",
    "        if index == 0:\n",
    "            index += 1\n",
    "        if index < n and input_list[index] >= input_list[index - 1]:\n",
    "            index += 1\n",
    "        else:\n",
    "            input_list[index], input_list[index - 1] = input_list[index - 1], input_list[index]\n",
    "            index -= 1\n",
    "\n",
    "    return input_list\n",
    "\n",
    "\n",
    "input_string = input(\"Введите элементы массива, разделенные пробелами: \")\n",
    "\n",
    "\n",
    "sorted_list = gnome_sort_reverse(input_string)\n",
    "\n",
    "\n",
    "print(\"Список (от наибольшего к наименьшему):\", sorted_list)"
   ]
  },
  {
   "cell_type": "markdown",
   "id": "d74802731ec938a6",
   "metadata": {
    "collapsed": false,
    "jupyter": {
     "outputs_hidden": false
    }
   },
   "source": [
    "[GitHub](https://github.com/kolodakart/0python)"
   ]
  }
 ],
 "metadata": {
  "kernelspec": {
   "display_name": "Python 3 (ipykernel)",
   "language": "python",
   "name": "python3"
  },
  "language_info": {
   "codemirror_mode": {
    "name": "ipython",
    "version": 3
   },
   "file_extension": ".py",
   "mimetype": "text/x-python",
   "name": "python",
   "nbconvert_exporter": "python",
   "pygments_lexer": "ipython3",
   "version": "3.11.5"
  }
 },
 "nbformat": 4,
 "nbformat_minor": 5
}
