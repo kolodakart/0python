{
 "cells": [
  {
   "cell_type": "markdown",
   "source": [
    "## Видатні персони\n",
    "- ### <a style = \"color: red; border: 1px solid black\" href=\"https://uk.wikipedia.org/wiki/%D0%A8%D0%BE%D1%82%D0%B0_%D0%A0%D1%83%D1%81%D1%82%D0%B0%D0%B2%D0%B5%D0%BB%D1%96\">Шота Руставелі - видатний грузинський поет</a>\n",
    " <img style=\"height: 200px; width: 150px\"\n",
    "             src=\"https://www.ukrlib.com.ua/my/images/full/rustaveli-shota.jpg\">\n",
    "- ###  <a style = \"color: red; border: 1px solid black\" href=\"https://uk.wikipedia.org/wiki/%D0%9F%D0%B5%D1%82%D1%80_%D0%A7%D0%B5%D1%85\">Петр Чех</a>\n",
    "<img style=\"height: 200px; width: 150px\"\n",
    "        src=\"https://upload.wikimedia.org/wikipedia/commons/7/75/Arsenal_players_training_before_2019_UEFA_Europa_League_final_07_%28cropped%29.jpg\">\n",
    "- ### <a style = \"color: red; border: 1px solid black\" href=\"https://uk.wikipedia.org/wiki/%D0%AF%D0%BD_%D0%93%D1%83%D1%81\">Ян Гус</a>\n",
    "<img style=\"height: 200px; width: 150px\"\n",
    "             src=\"https://interesnyefakty.org/wp-content/uploads/yan-gus-8.jpg\">"
   ],
   "metadata": {
    "collapsed": false
   },
   "id": "f160be8c17ad496b"
  },
  {
   "cell_type": "code",
   "execution_count": 3,
   "outputs": [
    {
     "name": "stdout",
     "output_type": "stream",
     "text": [
      "Список (от наибольшего к наименьшему): [1, 1, 2, 3, 4, 5, 12]\n"
     ]
    }
   ],
   "source": [
    "def gnome_sort_reverse(input_string):\n",
    "    input_list = []\n",
    "\n",
    "    for item in input_string.split():\n",
    "        try:\n",
    "            input_list.append(int(item))\n",
    "        except ValueError:\n",
    "            print(f\"Ошибка: '{item}' не является целым числом.\")\n",
    "\n",
    "    index = 0\n",
    "    n = len(input_list)\n",
    "\n",
    "    while index < n:\n",
    "        if index == 0:\n",
    "            index += 1\n",
    "        if index < n and input_list[index] >= input_list[index - 1]:\n",
    "            index += 1\n",
    "        else:\n",
    "            input_list[index], input_list[index - 1] = input_list[index - 1], input_list[index]\n",
    "            index -= 1\n",
    "\n",
    "    return input_list\n",
    "\n",
    "\n",
    "input_string = input(\"Введите элементы массива, разделенные пробелами: \")\n",
    "\n",
    "\n",
    "sorted_list = gnome_sort_reverse(input_string)\n",
    "\n",
    "\n",
    "print(\"Список (от наибольшего к наименьшему):\", sorted_list)"
   ],
   "metadata": {
    "collapsed": false,
    "ExecuteTime": {
     "end_time": "2023-11-09T09:53:23.941741100Z",
     "start_time": "2023-11-09T09:53:15.747251700Z"
    }
   },
   "id": "f8a09710-3f1d-4673-a43e-02438daf8133"
  },
  {
   "cell_type": "code",
   "execution_count": 2,
   "outputs": [
    {
     "ename": "SyntaxError",
     "evalue": "invalid syntax (2489798013.py, line 1)",
     "output_type": "error",
     "traceback": [
      "\u001B[1;36m  Cell \u001B[1;32mIn[2], line 1\u001B[1;36m\u001B[0m\n\u001B[1;33m    1 4 6 21 125 6\u001B[0m\n\u001B[1;37m      ^\u001B[0m\n\u001B[1;31mSyntaxError\u001B[0m\u001B[1;31m:\u001B[0m invalid syntax\n"
     ]
    }
   ],
   "source": [],
   "metadata": {
    "collapsed": false,
    "ExecuteTime": {
     "end_time": "2023-11-09T09:40:25.382159200Z",
     "start_time": "2023-11-09T09:40:25.358940800Z"
    }
   },
   "id": "b256122ec7b842e5"
  },
  {
   "cell_type": "code",
   "execution_count": null,
   "outputs": [],
   "source": [],
   "metadata": {
    "collapsed": false
   },
   "id": "aea98f2676bb9153"
  }
 ],
 "metadata": {
  "kernelspec": {
   "display_name": "Python 3 (ipykernel)",
   "language": "python",
   "name": "python3"
  },
  "language_info": {
   "codemirror_mode": {
    "name": "ipython",
    "version": 3
   },
   "file_extension": ".py",
   "mimetype": "text/x-python",
   "name": "python",
   "nbconvert_exporter": "python",
   "pygments_lexer": "ipython3",
   "version": "3.11.5"
  }
 },
 "nbformat": 4,
 "nbformat_minor": 5
}
